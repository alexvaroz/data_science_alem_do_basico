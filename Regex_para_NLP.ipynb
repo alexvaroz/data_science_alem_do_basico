{
  "nbformat": 4,
  "nbformat_minor": 0,
  "metadata": {
    "colab": {
      "provenance": [],
      "authorship_tag": "ABX9TyMCXF5AIvzm0+E29UYhlFm8",
      "include_colab_link": true
    },
    "kernelspec": {
      "name": "python3",
      "display_name": "Python 3"
    },
    "language_info": {
      "name": "python"
    }
  },
  "cells": [
    {
      "cell_type": "markdown",
      "metadata": {
        "id": "view-in-github",
        "colab_type": "text"
      },
      "source": [
        "<a href=\"https://colab.research.google.com/github/alexvaroz/data_science_alem_do_basico/blob/master/Regex_para_NLP.ipynb\" target=\"_parent\"><img src=\"https://colab.research.google.com/assets/colab-badge.svg\" alt=\"Open In Colab\"/></a>"
      ]
    },
    {
      "cell_type": "markdown",
      "source": [
        "## **Prática de Regex**\n",
        "\n",
        "Neste notebook exploraremos um exemplo de aplicação de técnicas de expressões regulares em um problema de processamento de linguagem natural.\n",
        "\n",
        "No caso, foi criada uma peça jurídica fictícia onde constam a identificação de denunciados (nomes e CPFs/CNPJs) e deve-se coletar todos criando organizando-os em uma tabela.\n",
        "\n",
        "Essa peça pode ser baixada [neste link](https://github.com/alexvaroz/data_science_alem_do_basico/raw/master/toy_denuncia_regex.pdf). Como ela está no formato \\*.pdf será utilizada a biblioteca **PdfPlumer** para extrair o conteúdo textual.\n",
        "\n"
      ],
      "metadata": {
        "id": "_JIAHYS_O78F"
      }
    },
    {
      "cell_type": "code",
      "execution_count": 1,
      "metadata": {
        "id": "yuxJf3e8Si34"
      },
      "outputs": [],
      "source": [
        "# instalação da biblioteca PdfPlumber\n",
        "!pip install pdfplumber -q"
      ]
    },
    {
      "cell_type": "code",
      "source": [
        "# baixar arquivo da denúncia para o ambiente Colab\n",
        "!wget https://github.com/alexvaroz/data_science_alem_do_basico/raw/master/toy_denuncia_regex.pdf"
      ],
      "metadata": {
        "colab": {
          "base_uri": "https://localhost:8080/"
        },
        "id": "6HCcgybORz72",
        "outputId": "6712dd32-905b-4694-b491-4a6d00c5a1cb"
      },
      "execution_count": 2,
      "outputs": [
        {
          "output_type": "stream",
          "name": "stdout",
          "text": [
            "--2023-04-10 01:00:40--  https://github.com/alexvaroz/data_science_alem_do_basico/raw/master/toy_denuncia_regex.pdf\n",
            "Resolving github.com (github.com)... 192.30.255.112\n",
            "Connecting to github.com (github.com)|192.30.255.112|:443... connected.\n",
            "HTTP request sent, awaiting response... 302 Found\n",
            "Location: https://raw.githubusercontent.com/alexvaroz/data_science_alem_do_basico/master/toy_denuncia_regex.pdf [following]\n",
            "--2023-04-10 01:00:40--  https://raw.githubusercontent.com/alexvaroz/data_science_alem_do_basico/master/toy_denuncia_regex.pdf\n",
            "Resolving raw.githubusercontent.com (raw.githubusercontent.com)... 185.199.108.133, 185.199.109.133, 185.199.110.133, ...\n",
            "Connecting to raw.githubusercontent.com (raw.githubusercontent.com)|185.199.108.133|:443... connected.\n",
            "HTTP request sent, awaiting response... 200 OK\n",
            "Length: 59069 (58K) [application/octet-stream]\n",
            "Saving to: ‘toy_denuncia_regex.pdf.2’\n",
            "\n",
            "\rtoy_denuncia_regex.   0%[                    ]       0  --.-KB/s               \rtoy_denuncia_regex. 100%[===================>]  57.68K  --.-KB/s    in 0.008s  \n",
            "\n",
            "2023-04-10 01:00:40 (6.77 MB/s) - ‘toy_denuncia_regex.pdf.2’ saved [59069/59069]\n",
            "\n"
          ]
        }
      ]
    },
    {
      "cell_type": "code",
      "source": [
        "import pdfplumber\n",
        "import pandas as pd\n",
        "import re\n",
        "\n",
        "arquivo = '/content/toy_denuncia_regex.pdf'"
      ],
      "metadata": {
        "id": "DeQ16UIxS6wL"
      },
      "execution_count": 3,
      "outputs": []
    },
    {
      "cell_type": "code",
      "source": [
        "pdf = pdfplumber.open(arquivo)\n",
        "\n",
        "# Quantidade de páginas do documento\n",
        "len(pdf.pages)"
      ],
      "metadata": {
        "colab": {
          "base_uri": "https://localhost:8080/"
        },
        "id": "rIYIZqplQ1un",
        "outputId": "a0f0c688-9c9c-4f20-82c0-241f6b24bc6c"
      },
      "execution_count": 4,
      "outputs": [
        {
          "output_type": "execute_result",
          "data": {
            "text/plain": [
              "1"
            ]
          },
          "metadata": {},
          "execution_count": 4
        }
      ]
    },
    {
      "cell_type": "code",
      "source": [
        "txt_denuncia = pdf.pages[0].extract_text()\n",
        "print(txt_denuncia)"
      ],
      "metadata": {
        "colab": {
          "base_uri": "https://localhost:8080/"
        },
        "id": "uuadv9rhSewv",
        "outputId": "117ea068-6586-40d7-af8b-eb821f2ea3da"
      },
      "execution_count": 5,
      "outputs": [
        {
          "output_type": "stream",
          "name": "stdout",
          "text": [
            "MINISTÉRIO PÚBLICO FEDERAL PROCURADORIA DA REPÚBLICA NO ESTADO\n",
            "DO RIO DE JANEIRO\n",
            "Núcleo de Combate à Corrupção\n",
            "EXCELENTÍSSIMO SENHOR JUIZ FEDERAL DA 7ª VARA FEDERAL CRIMINAL DA\n",
            "SEÇÃO JUDICIÁRIA DO RIO DE JANEIRO\n",
            "O Ministério Público Federal (MPF) apresentou denúncia contra 12 empresas,\n",
            "acusando-as de participar de um esquema de superfaturamento na compra de\n",
            "medicamentos pelo governo federal. Segundo a denúncia, as empresas - EMS\n",
            "(CNPJ: 00.000.000/0001-01), Eurofarma (CNPJ: 00.000.000/0002-02), Apsen\n",
            "(CNPJ: 00.000.000/0003-03), Biolab Sanus (CNPJ: 00.000.000/0004-04), Cristália\n",
            "(CNPJ: 00.000.000/0005-05), Germed (CNPJ: 00.000.000/0006-06), Hypera\n",
            "Pharma (CNPJ: 00.000.000/0007-07), Legrand Pharma (CNPJ: 00.000.000/0008-\n",
            "08), Nova Química (CNPJ: 00.000.000/0009-09), Prati-Donaduzzi (CNPJ:\n",
            "00.000.000/0010-10), Sanofi (CNPJ: 00.000.000/0011-11) e Teuto Brasileiro (CNPJ:\n",
            "00.000.000/0012-12) - teriam formado um cartel para manipular as licitações e\n",
            "aumentar os preços dos medicamentos vendidos ao governo.\n",
            "De acordo com as investigações, os responsáveis pelas empresas envolvidas no\n",
            "esquema seriam Carlos Silva (CPF: 012.345.678-90), CEO da EMS; Júlia Santos\n",
            "(CPF: 234.567.890-12), presidente da Eurofarma; Gustavo Lima (CPF: 456.789.012-\n",
            "34), diretor financeiro da Apsen; Luís Vieira (CPF: 678.901.234-56), presidente da\n",
            "Biolab Sanus; Pedro Carvalho (CPF: 890.123.456-78), CEO da Cristália; Marcelo\n",
            "Ribeiro (CPF: 123.456.789-00), presidente da Germed; Paulo Leite (CPF:\n",
            "345.678.901-23), CEO da Hypera Pharma; Márcio Costa (CPF: 567.890.123-45),\n",
            "diretor financeiro da Legrand Pharma; João Paulo Almeida (CPF: 789.012.345-67),\n",
            "presidente da Nova Química; Joana Santos (CPF: 901.234.567-89), CEO da Prati-\n",
            "Donaduzzi; Thiago Martins (CPF: 234.567.891-01), diretor financeiro da Sanofi; e\n",
            "Antônio Oliveira (CPF: 456.789.012-35), presidente do Teuto Brasileiro.\n",
            "A denúncia do MPF destaca ainda que os prejuízos causados pelo esquema de\n",
            "superfaturamento são enormes, uma vez que os medicamentos adquiridos pelo\n",
            "governo federal são destinados ao atendimento da população brasileira,\n",
            "especialmente dos mais vulneráveis.\n",
            "Caso a denúncia seja acolhida pela Justiça, os responsáveis pelas empresas\n",
            "envolvidas poderão ser condenados por formação de cartel, fraude à licitação e\n",
            "crime contra a ordem econômica. As penas podem chegar a 20 anos de prisão,\n",
            "além de multas e outras sanções previstas em lei.\n"
          ]
        }
      ]
    },
    {
      "cell_type": "markdown",
      "source": [
        "O primeiro passo será a captura do nome das empresas e respectivos CNPJs."
      ],
      "metadata": {
        "id": "lqgsj59UUz0w"
      }
    },
    {
      "cell_type": "code",
      "source": [
        "# padrao: <nome da empresa> (CNPJ: <CNPJ>)\n",
        "padrao = r'[-|e|,]\\s([\\w*\\s?]*[-|\\w]*)\\s\\(CNPJ:\\s(\\d{2}\\.\\d{3}\\.\\d{3}/\\d{4}-\\n?\\d{2})'"
      ],
      "metadata": {
        "id": "z8zfsy-7TSr6"
      },
      "execution_count": 6,
      "outputs": []
    },
    {
      "cell_type": "markdown",
      "source": [
        "Para tratar as informações coletadas, será criado um dataframe:"
      ],
      "metadata": {
        "id": "WFrLEs6Bgryf"
      }
    },
    {
      "cell_type": "code",
      "source": [
        "# Criando um dataframe para abrigar o resultado\n",
        "df_empresa_cnpj = pd.DataFrame(re.findall(padrao, txt_denuncia), columns = ['EMPRESA', 'CNPJ'])"
      ],
      "metadata": {
        "id": "-GZ8FxJZZBSz"
      },
      "execution_count": 7,
      "outputs": []
    },
    {
      "cell_type": "markdown",
      "source": [
        "Importante realizar ajustes nos dados capturados. No caso, serão tratadas as quebras de linha eventualmente presentes na coleta."
      ],
      "metadata": {
        "id": "uSX66Mwtg9Jf"
      }
    },
    {
      "cell_type": "code",
      "source": [
        "# para corrigir os nomes e cnpj\n",
        "df_empresa_cnpj.EMPRESA = df_empresa_cnpj.EMPRESA.str.replace('\\n',' ')\n",
        "df_empresa_cnpj.CNPJ = df_empresa_cnpj.CNPJ.str.replace('\\n','')"
      ],
      "metadata": {
        "id": "gHeX-4jKZrtr"
      },
      "execution_count": 8,
      "outputs": []
    },
    {
      "cell_type": "markdown",
      "source": [
        "Finalizada a coleta dos nomes das empresas e respectivos CNPJs, chega o momento de capturar os citados:"
      ],
      "metadata": {
        "id": "DI8H3P4BbDI8"
      }
    },
    {
      "cell_type": "code",
      "source": [
        "# padrao: <nome da citado> (CPF: <CPF>), <descrição do cargo>\n",
        "# exemplo: Thiago Martins (CPF: 234.567.891-01), diretor financeiro da Sanofi\n",
        "padrao_citados = r'[;|m][\\s]([\\w\\s]*)\\(CPF:\\s(\\d{3}\\.\\d{3}\\.\\d{3}-\\n?\\d{2})\\),\\s([\\w\\-\\s]*)'"
      ],
      "metadata": {
        "id": "x4FBceaubMjx"
      },
      "execution_count": 9,
      "outputs": []
    },
    {
      "cell_type": "code",
      "source": [
        "re.findall(padrao_citados, txt_denuncia)"
      ],
      "metadata": {
        "colab": {
          "base_uri": "https://localhost:8080/"
        },
        "id": "XiF_043NcfuB",
        "outputId": "fc8d6785-47ce-4f6f-c9e6-9f806b5d22f0"
      },
      "execution_count": 10,
      "outputs": [
        {
          "output_type": "execute_result",
          "data": {
            "text/plain": [
              "[('Carlos Silva ', '012.345.678-90', 'CEO da EMS'),\n",
              " ('Júlia Santos\\n', '234.567.890-12', 'presidente da Eurofarma'),\n",
              " ('Gustavo Lima ', '456.789.012-\\n34', 'diretor financeiro da Apsen'),\n",
              " ('Luís Vieira ', '678.901.234-56', 'presidente da\\nBiolab Sanus'),\n",
              " ('Pedro Carvalho ', '890.123.456-78', 'CEO da Cristália'),\n",
              " ('Marcelo\\nRibeiro ', '123.456.789-00', 'presidente da Germed'),\n",
              " ('Paulo Leite ', '345.678.901-23', 'CEO da Hypera Pharma'),\n",
              " ('Márcio Costa ', '567.890.123-45', 'diretor financeiro da Legrand Pharma'),\n",
              " ('João Paulo Almeida ', '789.012.345-67', 'presidente da Nova Química'),\n",
              " ('Joana Santos ', '901.234.567-89', 'CEO da Prati-\\nDonaduzzi'),\n",
              " ('Thiago Martins ', '234.567.891-01', 'diretor financeiro da Sanofi'),\n",
              " ('e\\nAntônio Oliveira ', '456.789.012-35', 'presidente do Teuto Brasileiro')]"
            ]
          },
          "metadata": {},
          "execution_count": 10
        }
      ]
    },
    {
      "cell_type": "code",
      "source": [
        "# Criando um dataframe para abrigar o resultado dos citados\n",
        "df_citados_cargo = pd.DataFrame(re.findall(padrao_citados, txt_denuncia), \n",
        "                                 columns = ['CITADO', 'CPF', 'DESC_CARGO'])"
      ],
      "metadata": {
        "id": "EMEO3rwTf__I"
      },
      "execution_count": 11,
      "outputs": []
    },
    {
      "cell_type": "markdown",
      "source": [
        "Hora de ajustar os dados coletados:"
      ],
      "metadata": {
        "id": "kBgiqXQKhnD_"
      }
    },
    {
      "cell_type": "code",
      "source": [
        "# Correção das descrições\n",
        "df_citados_cargo.DESC_CARGO = df_citados_cargo.DESC_CARGO.str.replace('-\\n','-')\n",
        "df_citados_cargo.DESC_CARGO = df_citados_cargo.DESC_CARGO.str.replace('\\n',' ')\n",
        "df_citados_cargo.CITADO = df_citados_cargo.CITADO.str.replace('\\n',' ')\n",
        "df_citados_cargo.CPF = df_citados_cargo.CPF.str.replace('\\n','')"
      ],
      "metadata": {
        "id": "JP0NLOLrXnVk"
      },
      "execution_count": 12,
      "outputs": []
    },
    {
      "cell_type": "markdown",
      "source": [
        "Para identificar os nomes de empresa na descrição dos cargos, será utilizada a lista de nomes de empresas coletadas vinculadas ao CNPJ para relacionar com a respectiva descrição:"
      ],
      "metadata": {
        "id": "KHcTYYcEnVQ9"
      }
    },
    {
      "cell_type": "code",
      "source": [
        "map_descricao_cargo_empresa = {}\n",
        "for descricao in df_citados_cargo.DESC_CARGO.values:\n",
        "  for empresa in df_empresa_cnpj.EMPRESA.values:\n",
        "    if(re.match(r'([\\w\\s]*)\\sd[ae] {}'.format(empresa),descricao)):\n",
        "      map_descricao_cargo_empresa[descricao]=(\n",
        "        re.findall(r'([\\w\\s]*)\\sd[aeo]\\s([\\w\\s\\-]*)',descricao)[0])"
      ],
      "metadata": {
        "id": "luWN1pmPpIIP"
      },
      "execution_count": 13,
      "outputs": []
    },
    {
      "cell_type": "markdown",
      "source": [
        "Criando um dataframe para abrigar o resultado:"
      ],
      "metadata": {
        "id": "uKodyTjth_q3"
      }
    },
    {
      "cell_type": "code",
      "source": [
        "df_desc_cargo = pd.DataFrame.from_dict(map_descricao_cargo_empresa, orient='index')\n",
        "df_desc_cargo.columns = ['CARGO', 'EMPRESA']"
      ],
      "metadata": {
        "id": "5GrO90m3a5dc"
      },
      "execution_count": 14,
      "outputs": []
    },
    {
      "cell_type": "code",
      "source": [
        "df_desc_cargo = df_desc_cargo.reset_index()\n",
        "df_desc_cargo.rename(columns = {'index':'DESC_CARGO'}, inplace=True)"
      ],
      "metadata": {
        "id": "45KGAONcc86-"
      },
      "execution_count": 15,
      "outputs": []
    },
    {
      "cell_type": "markdown",
      "source": [
        "Com os 3 dataframes criados, chega-se o momento de concluir a rotina integrando os 3."
      ],
      "metadata": {
        "id": "e5h5rOFfidWx"
      }
    },
    {
      "cell_type": "code",
      "source": [
        "# Agora podemos integrar os 3 dataframes\n",
        "final = df_citados_cargo.merge(df_desc_cargo, on = \n",
        "                                'DESC_CARGO').merge(df_empresa_cnpj, on='EMPRESA')\n",
        "final"
      ],
      "metadata": {
        "colab": {
          "base_uri": "https://localhost:8080/",
          "height": 629
        },
        "id": "u14SHcZbnpQd",
        "outputId": "9f536301-d8c3-4251-e804-c2ab41e3c66c"
      },
      "execution_count": 16,
      "outputs": [
        {
          "output_type": "execute_result",
          "data": {
            "text/plain": [
              "                 CITADO             CPF                            DESC_CARGO  \\\n",
              "0         Carlos Silva   012.345.678-90                            CEO da EMS   \n",
              "1         Júlia Santos   234.567.890-12               presidente da Eurofarma   \n",
              "2         Gustavo Lima   456.789.012-34           diretor financeiro da Apsen   \n",
              "3          Luís Vieira   678.901.234-56            presidente da Biolab Sanus   \n",
              "4       Pedro Carvalho   890.123.456-78                      CEO da Cristália   \n",
              "5      Marcelo Ribeiro   123.456.789-00                  presidente da Germed   \n",
              "6          Paulo Leite   345.678.901-23                  CEO da Hypera Pharma   \n",
              "7         Márcio Costa   567.890.123-45  diretor financeiro da Legrand Pharma   \n",
              "8   João Paulo Almeida   789.012.345-67            presidente da Nova Química   \n",
              "9         Joana Santos   901.234.567-89                CEO da Prati-Donaduzzi   \n",
              "10      Thiago Martins   234.567.891-01          diretor financeiro da Sanofi   \n",
              "\n",
              "                 CARGO          EMPRESA                CNPJ  \n",
              "0                  CEO              EMS  00.000.000/0001-01  \n",
              "1           presidente        Eurofarma  00.000.000/0002-02  \n",
              "2   diretor financeiro            Apsen  00.000.000/0003-03  \n",
              "3           presidente     Biolab Sanus  00.000.000/0004-04  \n",
              "4                  CEO        Cristália  00.000.000/0005-05  \n",
              "5           presidente           Germed  00.000.000/0006-06  \n",
              "6                  CEO    Hypera Pharma  00.000.000/0007-07  \n",
              "7   diretor financeiro   Legrand Pharma  00.000.000/0008-08  \n",
              "8           presidente     Nova Química  00.000.000/0009-09  \n",
              "9                  CEO  Prati-Donaduzzi  00.000.000/0010-10  \n",
              "10  diretor financeiro           Sanofi  00.000.000/0011-11  "
            ],
            "text/html": [
              "\n",
              "  <div id=\"df-d6939bd9-3832-431a-8772-1ec8dcdd1537\">\n",
              "    <div class=\"colab-df-container\">\n",
              "      <div>\n",
              "<style scoped>\n",
              "    .dataframe tbody tr th:only-of-type {\n",
              "        vertical-align: middle;\n",
              "    }\n",
              "\n",
              "    .dataframe tbody tr th {\n",
              "        vertical-align: top;\n",
              "    }\n",
              "\n",
              "    .dataframe thead th {\n",
              "        text-align: right;\n",
              "    }\n",
              "</style>\n",
              "<table border=\"1\" class=\"dataframe\">\n",
              "  <thead>\n",
              "    <tr style=\"text-align: right;\">\n",
              "      <th></th>\n",
              "      <th>CITADO</th>\n",
              "      <th>CPF</th>\n",
              "      <th>DESC_CARGO</th>\n",
              "      <th>CARGO</th>\n",
              "      <th>EMPRESA</th>\n",
              "      <th>CNPJ</th>\n",
              "    </tr>\n",
              "  </thead>\n",
              "  <tbody>\n",
              "    <tr>\n",
              "      <th>0</th>\n",
              "      <td>Carlos Silva</td>\n",
              "      <td>012.345.678-90</td>\n",
              "      <td>CEO da EMS</td>\n",
              "      <td>CEO</td>\n",
              "      <td>EMS</td>\n",
              "      <td>00.000.000/0001-01</td>\n",
              "    </tr>\n",
              "    <tr>\n",
              "      <th>1</th>\n",
              "      <td>Júlia Santos</td>\n",
              "      <td>234.567.890-12</td>\n",
              "      <td>presidente da Eurofarma</td>\n",
              "      <td>presidente</td>\n",
              "      <td>Eurofarma</td>\n",
              "      <td>00.000.000/0002-02</td>\n",
              "    </tr>\n",
              "    <tr>\n",
              "      <th>2</th>\n",
              "      <td>Gustavo Lima</td>\n",
              "      <td>456.789.012-34</td>\n",
              "      <td>diretor financeiro da Apsen</td>\n",
              "      <td>diretor financeiro</td>\n",
              "      <td>Apsen</td>\n",
              "      <td>00.000.000/0003-03</td>\n",
              "    </tr>\n",
              "    <tr>\n",
              "      <th>3</th>\n",
              "      <td>Luís Vieira</td>\n",
              "      <td>678.901.234-56</td>\n",
              "      <td>presidente da Biolab Sanus</td>\n",
              "      <td>presidente</td>\n",
              "      <td>Biolab Sanus</td>\n",
              "      <td>00.000.000/0004-04</td>\n",
              "    </tr>\n",
              "    <tr>\n",
              "      <th>4</th>\n",
              "      <td>Pedro Carvalho</td>\n",
              "      <td>890.123.456-78</td>\n",
              "      <td>CEO da Cristália</td>\n",
              "      <td>CEO</td>\n",
              "      <td>Cristália</td>\n",
              "      <td>00.000.000/0005-05</td>\n",
              "    </tr>\n",
              "    <tr>\n",
              "      <th>5</th>\n",
              "      <td>Marcelo Ribeiro</td>\n",
              "      <td>123.456.789-00</td>\n",
              "      <td>presidente da Germed</td>\n",
              "      <td>presidente</td>\n",
              "      <td>Germed</td>\n",
              "      <td>00.000.000/0006-06</td>\n",
              "    </tr>\n",
              "    <tr>\n",
              "      <th>6</th>\n",
              "      <td>Paulo Leite</td>\n",
              "      <td>345.678.901-23</td>\n",
              "      <td>CEO da Hypera Pharma</td>\n",
              "      <td>CEO</td>\n",
              "      <td>Hypera Pharma</td>\n",
              "      <td>00.000.000/0007-07</td>\n",
              "    </tr>\n",
              "    <tr>\n",
              "      <th>7</th>\n",
              "      <td>Márcio Costa</td>\n",
              "      <td>567.890.123-45</td>\n",
              "      <td>diretor financeiro da Legrand Pharma</td>\n",
              "      <td>diretor financeiro</td>\n",
              "      <td>Legrand Pharma</td>\n",
              "      <td>00.000.000/0008-08</td>\n",
              "    </tr>\n",
              "    <tr>\n",
              "      <th>8</th>\n",
              "      <td>João Paulo Almeida</td>\n",
              "      <td>789.012.345-67</td>\n",
              "      <td>presidente da Nova Química</td>\n",
              "      <td>presidente</td>\n",
              "      <td>Nova Química</td>\n",
              "      <td>00.000.000/0009-09</td>\n",
              "    </tr>\n",
              "    <tr>\n",
              "      <th>9</th>\n",
              "      <td>Joana Santos</td>\n",
              "      <td>901.234.567-89</td>\n",
              "      <td>CEO da Prati-Donaduzzi</td>\n",
              "      <td>CEO</td>\n",
              "      <td>Prati-Donaduzzi</td>\n",
              "      <td>00.000.000/0010-10</td>\n",
              "    </tr>\n",
              "    <tr>\n",
              "      <th>10</th>\n",
              "      <td>Thiago Martins</td>\n",
              "      <td>234.567.891-01</td>\n",
              "      <td>diretor financeiro da Sanofi</td>\n",
              "      <td>diretor financeiro</td>\n",
              "      <td>Sanofi</td>\n",
              "      <td>00.000.000/0011-11</td>\n",
              "    </tr>\n",
              "  </tbody>\n",
              "</table>\n",
              "</div>\n",
              "      <button class=\"colab-df-convert\" onclick=\"convertToInteractive('df-d6939bd9-3832-431a-8772-1ec8dcdd1537')\"\n",
              "              title=\"Convert this dataframe to an interactive table.\"\n",
              "              style=\"display:none;\">\n",
              "        \n",
              "  <svg xmlns=\"http://www.w3.org/2000/svg\" height=\"24px\"viewBox=\"0 0 24 24\"\n",
              "       width=\"24px\">\n",
              "    <path d=\"M0 0h24v24H0V0z\" fill=\"none\"/>\n",
              "    <path d=\"M18.56 5.44l.94 2.06.94-2.06 2.06-.94-2.06-.94-.94-2.06-.94 2.06-2.06.94zm-11 1L8.5 8.5l.94-2.06 2.06-.94-2.06-.94L8.5 2.5l-.94 2.06-2.06.94zm10 10l.94 2.06.94-2.06 2.06-.94-2.06-.94-.94-2.06-.94 2.06-2.06.94z\"/><path d=\"M17.41 7.96l-1.37-1.37c-.4-.4-.92-.59-1.43-.59-.52 0-1.04.2-1.43.59L10.3 9.45l-7.72 7.72c-.78.78-.78 2.05 0 2.83L4 21.41c.39.39.9.59 1.41.59.51 0 1.02-.2 1.41-.59l7.78-7.78 2.81-2.81c.8-.78.8-2.07 0-2.86zM5.41 20L4 18.59l7.72-7.72 1.47 1.35L5.41 20z\"/>\n",
              "  </svg>\n",
              "      </button>\n",
              "      \n",
              "  <style>\n",
              "    .colab-df-container {\n",
              "      display:flex;\n",
              "      flex-wrap:wrap;\n",
              "      gap: 12px;\n",
              "    }\n",
              "\n",
              "    .colab-df-convert {\n",
              "      background-color: #E8F0FE;\n",
              "      border: none;\n",
              "      border-radius: 50%;\n",
              "      cursor: pointer;\n",
              "      display: none;\n",
              "      fill: #1967D2;\n",
              "      height: 32px;\n",
              "      padding: 0 0 0 0;\n",
              "      width: 32px;\n",
              "    }\n",
              "\n",
              "    .colab-df-convert:hover {\n",
              "      background-color: #E2EBFA;\n",
              "      box-shadow: 0px 1px 2px rgba(60, 64, 67, 0.3), 0px 1px 3px 1px rgba(60, 64, 67, 0.15);\n",
              "      fill: #174EA6;\n",
              "    }\n",
              "\n",
              "    [theme=dark] .colab-df-convert {\n",
              "      background-color: #3B4455;\n",
              "      fill: #D2E3FC;\n",
              "    }\n",
              "\n",
              "    [theme=dark] .colab-df-convert:hover {\n",
              "      background-color: #434B5C;\n",
              "      box-shadow: 0px 1px 3px 1px rgba(0, 0, 0, 0.15);\n",
              "      filter: drop-shadow(0px 1px 2px rgba(0, 0, 0, 0.3));\n",
              "      fill: #FFFFFF;\n",
              "    }\n",
              "  </style>\n",
              "\n",
              "      <script>\n",
              "        const buttonEl =\n",
              "          document.querySelector('#df-d6939bd9-3832-431a-8772-1ec8dcdd1537 button.colab-df-convert');\n",
              "        buttonEl.style.display =\n",
              "          google.colab.kernel.accessAllowed ? 'block' : 'none';\n",
              "\n",
              "        async function convertToInteractive(key) {\n",
              "          const element = document.querySelector('#df-d6939bd9-3832-431a-8772-1ec8dcdd1537');\n",
              "          const dataTable =\n",
              "            await google.colab.kernel.invokeFunction('convertToInteractive',\n",
              "                                                     [key], {});\n",
              "          if (!dataTable) return;\n",
              "\n",
              "          const docLinkHtml = 'Like what you see? Visit the ' +\n",
              "            '<a target=\"_blank\" href=https://colab.research.google.com/notebooks/data_table.ipynb>data table notebook</a>'\n",
              "            + ' to learn more about interactive tables.';\n",
              "          element.innerHTML = '';\n",
              "          dataTable['output_type'] = 'display_data';\n",
              "          await google.colab.output.renderOutput(dataTable, element);\n",
              "          const docLink = document.createElement('div');\n",
              "          docLink.innerHTML = docLinkHtml;\n",
              "          element.appendChild(docLink);\n",
              "        }\n",
              "      </script>\n",
              "    </div>\n",
              "  </div>\n",
              "  "
            ]
          },
          "metadata": {},
          "execution_count": 16
        }
      ]
    },
    {
      "cell_type": "markdown",
      "source": [
        "O resultado poderia ser exportado para um arquivo no formato .xlsx ."
      ],
      "metadata": {
        "id": "7mhtoSV0iyzL"
      }
    },
    {
      "cell_type": "markdown",
      "source": [
        "O texto da denúncia foi gerado com o apoio do **ChatGPT**, utilizando o seguinte prompt:\n",
        "\n",
        "\"Como professor universitário, preciso de um exemplo de denuncia do MPF sobre um suposto esquema de superfaturamento na compra de remédios de alto custo envolvendo 12 empresas. Nessa denuncia deve constar os CNPJs e CPFs dos responsáveis por cada empresa.\"\n",
        "\n",
        "Que tal criar outros exemplos de texto para praticar??"
      ],
      "metadata": {
        "id": "2gOvjc63pYNJ"
      }
    }
  ]
}