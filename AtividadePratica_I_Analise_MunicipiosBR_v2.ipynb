{
  "nbformat": 4,
  "nbformat_minor": 0,
  "metadata": {
    "colab": {
      "provenance": [],
      "toc_visible": true,
      "name": "AtividadePratica_I_Analise_MunicipiosBR_v2.ipynb",
      "mount_file_id": "1CBgWyZScIGMerk3mYNvmY1NDuwtdvpWv",
      "authorship_tag": "ABX9TyPtPrW/wgpNHBQfDDER36S5",
      "include_colab_link": true
    },
    "kernelspec": {
      "name": "python3",
      "display_name": "Python 3"
    },
    "language_info": {
      "name": "python"
    }
  },
  "cells": [
    {
      "cell_type": "markdown",
      "metadata": {
        "id": "view-in-github",
        "colab_type": "text"
      },
      "source": [
        "<a href=\"https://colab.research.google.com/github/alexvaroz/data_science_alem_do_basico/blob/master/AtividadePratica_I_Analise_MunicipiosBR_v2.ipynb\" target=\"_parent\"><img src=\"https://colab.research.google.com/assets/colab-badge.svg\" alt=\"Open In Colab\"/></a>"
      ]
    },
    {
      "cell_type": "markdown",
      "source": [
        "# **Atividade Prática Pandas I**\n",
        "\n",
        "Este notebook tem o objetivo de apresentar uma oportunidade de exercitar os primeiros da biblioteca **PANDAS**, ferramenta essencial de um cientista de dados.\n",
        "\n",
        "Serão trabalhados dados a respeito dos municípios do Brasil. Os dados forma obtidos em http://blog.mds.gov.br/redesuas/wp-content/uploads/2018/06/Lista_Munic%C3%ADpios_com_IBGE_Brasil_Versao_CSV.csv .\n",
        "\n",
        "As questões devem ser respondidas na célula seguinte ao enunciado."
      ],
      "metadata": {
        "id": "eKNlnOHJ8jZ6"
      }
    },
    {
      "cell_type": "code",
      "source": [
        "# Importação da biblioteca a ser utilizada\n",
        "import pandas as pd"
      ],
      "metadata": {
        "id": "p3nx4qe69RJe"
      },
      "execution_count": null,
      "outputs": []
    },
    {
      "cell_type": "code",
      "source": [
        "# carga dos dados\n",
        "# o parâmetro 'sep' indica o caracter que separa os dados... Por padrão é ','\n",
        "# o parâmetro 'encoding' altera a codificação dos caracteres... latin1 geralmente dá certo para conteúdos em português\n",
        "df = pd.read_csv('http://blog.mds.gov.br/redesuas/wp-content/uploads/2018/06/Lista_Munic%C3%ADpios_com_IBGE_Brasil_Versao_CSV.csv', sep=';', encoding = 'latin1')"
      ],
      "metadata": {
        "id": "411OSxUV9Zx5"
      },
      "execution_count": null,
      "outputs": []
    },
    {
      "cell_type": "code",
      "source": [
        "# mostrar as primeiras linhas do Dataframe\n",
        "df.head()"
      ],
      "metadata": {
        "id": "JPnMJwfS-Sut"
      },
      "execution_count": null,
      "outputs": []
    },
    {
      "cell_type": "code",
      "source": [
        "#quantas linhas e quantas colunas\n",
        "df.shape "
      ],
      "metadata": {
        "id": "H7LqBJ7Y-bW5"
      },
      "execution_count": null,
      "outputs": []
    },
    {
      "cell_type": "code",
      "source": [
        "# lista de colunas\n",
        "df.columns"
      ],
      "metadata": {
        "id": "p7nLBGjZ_Dzr"
      },
      "execution_count": null,
      "outputs": []
    },
    {
      "cell_type": "code",
      "source": [
        "# Exemplo de filtro que não apresenta os municípios sem registro de população.\n",
        "df[df['População 2010'].isna()]"
      ],
      "metadata": {
        "id": "upr3WFUJ_INl"
      },
      "execution_count": null,
      "outputs": []
    },
    {
      "cell_type": "code",
      "source": [
        "# Exemplo: Filtrando os municípios do PA\n",
        "df[df.UF=='PA']"
      ],
      "metadata": {
        "id": "pICC4jPX_baA"
      },
      "execution_count": null,
      "outputs": []
    },
    {
      "cell_type": "code",
      "source": [
        "# Somente os nomes dos municípios do PA\n",
        "df[df.UF=='PA']['Município']"
      ],
      "metadata": {
        "id": "CaMBChkFcyaz"
      },
      "execution_count": null,
      "outputs": []
    },
    {
      "cell_type": "code",
      "source": [
        "# Para a lista completa\n",
        "df[df.UF=='PA']['Município'].values"
      ],
      "metadata": {
        "id": "4kYNBhIxc6sx"
      },
      "execution_count": null,
      "outputs": []
    },
    {
      "cell_type": "code",
      "source": [
        "# Quantidade\n",
        "df[df.UF=='PA']['Município'].nunique()"
      ],
      "metadata": {
        "id": "521WY719_yHP"
      },
      "execution_count": null,
      "outputs": []
    },
    {
      "cell_type": "markdown",
      "source": [
        "Após esse \"aquecimento\", é sua vez de responder às seguintes questões:\n",
        "\n",
        "*Nos itens iniciais, a resposta está totalmente ou parcialmente comentada... à partir da questão 3 começa as parcialmente respondidas*"
      ],
      "metadata": {
        "id": "qBhGi_q8_8uG"
      }
    },
    {
      "cell_type": "markdown",
      "source": [
        "1. Quantos estados estão presentes na base?\n"
      ],
      "metadata": {
        "id": "qLXYlCGqAnnH"
      }
    },
    {
      "cell_type": "code",
      "source": [
        "# df['UF'].nunique()\n"
      ],
      "metadata": {
        "id": "j6o2kv8SArOB"
      },
      "execution_count": null,
      "outputs": []
    },
    {
      "cell_type": "markdown",
      "source": [
        "2. Listar os municípios de Alagoas.\n"
      ],
      "metadata": {
        "id": "__DQGJYRArno"
      }
    },
    {
      "cell_type": "code",
      "source": [
        "# df[df['UF']=='AL']['Município'].values\n"
      ],
      "metadata": {
        "id": "1tkAQD1yAujT"
      },
      "execution_count": null,
      "outputs": []
    },
    {
      "cell_type": "markdown",
      "source": [
        " 3. Qual estado possui mais municípios?\n"
      ],
      "metadata": {
        "id": "znyeIoN8AvM0"
      }
    },
    {
      "cell_type": "code",
      "source": [
        "# df.groupby('UF')['Município'].count().sort_values()\n"
      ],
      "metadata": {
        "id": "IuGmys_rAxtE"
      },
      "execution_count": null,
      "outputs": []
    },
    {
      "cell_type": "markdown",
      "source": [
        "4. Qual a região possui mais municípios?"
      ],
      "metadata": {
        "id": "VkI47dkFAycF"
      }
    },
    {
      "cell_type": "code",
      "source": [],
      "metadata": {
        "id": "cs0wCWmiA2m5"
      },
      "execution_count": null,
      "outputs": []
    },
    {
      "cell_type": "markdown",
      "source": [
        "5. Quais os 10 municípios com maior população?"
      ],
      "metadata": {
        "id": "UpOZ2o0-A3IK"
      }
    },
    {
      "cell_type": "code",
      "source": [],
      "metadata": {
        "id": "zfv9CK0hA_aN"
      },
      "execution_count": null,
      "outputs": []
    },
    {
      "cell_type": "markdown",
      "source": [
        "6. Quais os 10 municípios com maior população no estado da Bahia?"
      ],
      "metadata": {
        "id": "NwIpmFRFA_y-"
      }
    },
    {
      "cell_type": "code",
      "source": [],
      "metadata": {
        "id": "88Y5My6DBCHz"
      },
      "execution_count": null,
      "outputs": []
    },
    {
      "cell_type": "markdown",
      "source": [
        "7. Qual o município com menor população no país?"
      ],
      "metadata": {
        "id": "KjaqfOSHBCgF"
      }
    },
    {
      "cell_type": "code",
      "source": [],
      "metadata": {
        "id": "bp0MKt63BEw4"
      },
      "execution_count": null,
      "outputs": []
    },
    {
      "cell_type": "markdown",
      "source": [
        "8. Qual o valor médio de população por estado?"
      ],
      "metadata": {
        "id": "p3SvawQiBFS5"
      }
    },
    {
      "cell_type": "code",
      "source": [],
      "metadata": {
        "id": "zjRKOJsPBIRq"
      },
      "execution_count": null,
      "outputs": []
    },
    {
      "cell_type": "markdown",
      "source": [
        "9. Quais são os valores possíveis na coluna \"Porte\"?"
      ],
      "metadata": {
        "id": "K8aBQHkQBIqr"
      }
    },
    {
      "cell_type": "code",
      "source": [],
      "metadata": {
        "id": "o-OH-j_hBLEj"
      },
      "execution_count": null,
      "outputs": []
    },
    {
      "cell_type": "markdown",
      "source": [
        "10. Qual a média de população por cada tipo de porte de município?"
      ],
      "metadata": {
        "id": "swqgSk18BLdE"
      }
    },
    {
      "cell_type": "code",
      "source": [],
      "metadata": {
        "id": "qd41VoLHBNvF"
      },
      "execution_count": null,
      "outputs": []
    },
    {
      "cell_type": "markdown",
      "source": [
        "11. O que quer informar a coluna \"Capital\"?"
      ],
      "metadata": {
        "id": "CdhjXYuuBOCW"
      }
    },
    {
      "cell_type": "code",
      "source": [],
      "metadata": {
        "id": "-Xld5w6oBQBP"
      },
      "execution_count": null,
      "outputs": []
    },
    {
      "cell_type": "markdown",
      "source": [
        "12. Qual a distribuição de porte de municípios na região Sul? E na região Norte?"
      ],
      "metadata": {
        "id": "pJNx4cKQBSkr"
      }
    },
    {
      "cell_type": "code",
      "source": [
        "# Regiao SUL\n"
      ],
      "metadata": {
        "id": "7RgBWMwEBTa5"
      },
      "execution_count": null,
      "outputs": []
    },
    {
      "cell_type": "code",
      "source": [
        "# Regiao Norte\n"
      ],
      "metadata": {
        "id": "6WgXELydl6NY"
      },
      "execution_count": null,
      "outputs": []
    },
    {
      "cell_type": "markdown",
      "source": [
        "Chama a atenção a quantidade de municípios do mais pequeno porte na Região Sul."
      ],
      "metadata": {
        "id": "3Q62dcfqmCRk"
      }
    }
  ]
}